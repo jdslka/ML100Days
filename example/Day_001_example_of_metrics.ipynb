{
 "cells": [
  {
   "cell_type": "markdown",
   "metadata": {},
   "source": [
    "# 統計指標實作範例\n",
    "## 常見於迴歸問題的評估指標\n",
    "* 平均絕對誤差 - Mean Absolute Error (MAE)\n",
    "* 平均平方誤差(均方差) - Mean Squared Error (MSE)\n",
    "\n",
    "## 常見於分類問題的指標\n",
    "* Binary Cross Entropy (CE)\n",
    "\n",
    "##### 後面的課程還會有更詳細的說明"
   ]
  },
  {
   "cell_type": "markdown",
   "metadata": {},
   "source": [
    "# [教學目標]\n",
    "- 開始的第一堂課 : 我們先一些機器學習的基礎開始, 需要用到一些 Python 語法  \n",
    "- 如果不熟 Python, 但是至少熟悉過一門語言, 可以從這些範例開始熟悉\n",
    "- 所謂評價函數 (Metric), 就是機器學習的計分方式, 範例會展示平均絕對誤差 (MAE) 的寫法\n",
    "- 我們來了解意義並寫作一個函數吧!!"
   ]
  },
  {
   "cell_type": "markdown",
   "metadata": {},
   "source": [
    "# [範例重點]\n",
    "- 複習 / 熟悉 Python 載入套件的語法, 了解什麼是代稱 (In[1], Out[1])\n",
    "- 了解 Python 如何使用 Numpy 套件, 計算我們所需要的數值與繪圖 (In[2], Out[2], In[3], Out[3])\n",
    "- 如何寫作平均絕對誤差 (MAE) 函數 (In[4], Out[4])"
   ]
  },
  {
   "cell_type": "code",
   "execution_count": 58,
   "metadata": {},
   "outputs": [],
   "source": [
    "# import 是 Python 載入套件的基本語法 (類似 C 語言的 include), 後面接要載入的套件\n",
    "# import AAAAA as BB, 其中 BB 是代稱, 表示除了載入 AAAAA 之外, 之後都可以用 BB 代替 AAAAA 這個名稱\n",
    "# 常用套件往往有其對應代稱, numpy的代稱是np, pandas的代稱是pd, matplotlib.pyplot的代稱是plt\n",
    "# numpy 常用於數值/陣列運算, pandas 擅長資料格式的調整, matplotlib 擅長繪圖\n",
    "import numpy as np\n",
    "import matplotlib.pyplot as plt"
   ]
  },
  {
   "cell_type": "code",
   "execution_count": 59,
   "metadata": {},
   "outputs": [
    {
     "data": {
      "image/png": "[encoded data removed]",
      "text/plain": [
       "<Figure size 432x288 with 1 Axes>"
      ]
     },
     "metadata": {
      "needs_background": "light"
     },
     "output_type": "display_data"
    }
   ],
   "source": [
    "# Python 的變數不須宣告, 可能是文字, 數值, 陣列, 甚至是物件, 對初學者來說這往往是最難接受的地方\n",
    "# 主要是 Python 在大多數情況下, 可以由運算\"猜\"出你想要的型態, 我們由下列語法看看發生了什麼事吧\n",
    "# w, b 是數值\n",
    "w = 3\n",
    "b = 0.5\n",
    "\n",
    "# np.linspace 是 numpy.linspace 的意思\n",
    "# np.linspace(0, 100, 101)是指 0~100 劃分成 101 個刻度(含頭尾), 所也就是 0, 1, 2,...,100 這 101 個數\n",
    "# 這時候, x_lin 因為要記錄不只一個數, 因為 np.linspace() 傳回的是一個 Array, 所以 x_lin 就變成 Array 了\n",
    "x_lin = np.linspace(0, 100, 101)\n",
    "\n",
    "# np.random.randn() 就是 numpy.random.randn(), 會隨機傳回標準常態分布的取樣值\n",
    "# np.random.randn(101) 表示取樣了101次, 型態是 Array, 所以其他 + 與 * 的部分都是 Array 的加與乘, 一行就計算了101筆資料\n",
    "# 所以最後的結果 y, 也是一個長度 101 的 Array\n",
    "y = (x_lin + np.random.randn(101) * 5) * w + b\n",
    "\n",
    "# 這邊就是將 x_lin 以及剛剛算完的 y, 當作座標值, 將101個點在平面上畫出來\n",
    "# b. : b 就是 blue, 點(.) 就是最小單位的形狀, 詳細可以查 matplotlib 的官方說明\n",
    "plt.plot(x_lin, y, 'b.', label = 'data points')\n",
    "plt.title(\"Assume we have data points\")\n",
    "plt.legend(loc = 2)##loc為圖例位子\n",
    "plt.show()"
   ]
  },
  {
   "cell_type": "code",
   "execution_count": 60,
   "metadata": {},
   "outputs": [
    {
     "data": {
      "text/plain": [
       "[<matplotlib.lines.Line2D at 0x1e5cefe5fd0>]"
      ]
     },
     "execution_count": 60,
     "metadata": {},
     "output_type": "execute_result"
    },
    {
     "data": {
      "image/png": "[encoded data removed]",
      "text/plain": [
       "<Figure size 432x288 with 1 Axes>"
      ]
     },
     "metadata": {
      "needs_background": "light"
     },
     "output_type": "display_data"
    }
   ],
   "source": [
    "# 這邊的 y_hat, 就沒有隨機的部分了, 也就是下圖中的紅色實線部分\n",
    "y_hat = x_lin * w + b\n",
    "plt.plot(x_lin, y, 'b.', label = 'data')\n",
    "# 上面的 'b.' 是藍色點狀, 下面的 'r-' 是紅色線狀, label 是圖示上的名稱\n",
    "plt.plot(x_lin, y_hat, 'r-', label = 'prediction')\n",
    "plt.title(\"Assume we have data points (And the prediction)\")\n",
    "plt.legend(loc = 2)\n",
    "plt.show()"
   ]
  },
  {
   "cell_type": "code",
   "execution_count": 13,
   "metadata": {},
   "outputs": [
    {
     "name": "stdout",
     "output_type": "stream",
     "text": [
      "The Mean absolute error is 11.209\n"
     ]
    }
   ],
   "source": [
    "# Python 的函數是另一個新手上手的困難點, 由def開頭, 依序是函數名稱 / 輸入值, 冒號(:)結尾\n",
    "# 最難讓人習慣的是 Python 的函式與條件判斷, 前後都沒有大括弧(其他程式常見), 而是以四格空白縮排來取代\n",
    "# 以本例來說, mean_absolute_error 這個函數的定義範圍到 return mae 為止, 因為中間都是縮排, 而 \"\"\" 是多行註解(井號是單行註解)\n",
    "# 函數中, sum(), abs(), len() 都是 Python 原有的方法, 因此可以直接呼叫\n",
    "def mean_absolute_error(y, yp):\n",
    "    \"\"\"\n",
    "    計算 MAE\n",
    "    Args:\n",
    "        - y: 實際值\n",
    "        - yp: 預測值\n",
    "    Return:\n",
    "        - mae: MAE\n",
    "    \"\"\"\n",
    "    # MAE : 將兩個陣列相減後, 取絕對值(abs), 再將整個陣列加總成一個數字(sum), 最後除以y的長度(len), 因此稱為\"平均絕對誤差\"\n",
    "    mae = MAE = sum(abs(y - yp)) / len(y)\n",
    "    return mae\n",
    "\n",
    "# 呼叫上述函式, 傳回 y(藍點高度)與 y_hat(紅線高度) 的 MAE\n",
    "MAE = mean_absolute_error(y, y_hat)\n",
    "print(\"The Mean absolute error is %.3f\" % (MAE))"
   ]
  },
  {
   "cell_type": "markdown",
   "metadata": {},
   "source": [
    "## 練習時間\n",
    "#### 請寫一個函式用來計算 Mean Square Error\n",
    "$ MSE = \\frac{1}{n}\\sum_{i=1}^{n}{(Y_i - \\hat{Y}_i)^2} $\n",
    "\n",
    "### Hint: [如何取平方](https://googoodesign.gitbooks.io/-ezpython/unit-1.html)"
   ]
  },
  {
   "cell_type": "code",
   "execution_count": 61,
   "metadata": {},
   "outputs": [
    {
     "data": {
      "text/plain": [
       "array([ 1.57876736, -0.47541695,  0.34636377, -2.05170159, -0.62339588,\n",
       "       -0.62465996,  1.44697652,  0.39820773,  0.20834144, -0.50893761,\n",
       "        0.29972981,  0.79246632,  0.30619065,  0.53776568,  0.97982712,\n",
       "        0.24878074,  1.42300446,  0.12319689, -0.11577119,  0.95839772,\n",
       "       -2.45721558, -0.45947452, -0.40707033,  2.38134138, -0.6003433 ,\n",
       "       -1.32094977, -1.19044078, -0.34465351, -1.09369962, -2.00054897,\n",
       "        2.14296066, -1.6448903 ,  0.08120802, -0.96185212, -0.64351584,\n",
       "        2.17212732, -0.43822565,  0.33973769,  0.1805805 , -0.19553683,\n",
       "       -0.19232393, -2.09914852, -0.59454947, -0.21397007, -1.08500601,\n",
       "       -0.05598484,  2.23699285,  0.34936699, -2.99050702,  0.59310515,\n",
       "        0.53386465, -0.57346746, -1.33942172,  2.14188922, -1.02788565,\n",
       "       -0.8714898 ,  0.20370052,  0.35928373, -0.32911559,  0.04031626,\n",
       "        1.25863119,  1.48530126, -1.13372335,  0.67697484, -0.2226956 ,\n",
       "        0.70401159,  0.96946376, -1.04362759,  1.44871547,  0.30368428,\n",
       "       -0.38393621, -0.68030575,  0.04363224,  1.1744527 , -1.239142  ,\n",
       "        0.38456834, -0.18686157,  1.45074131,  0.3517865 , -1.48664661,\n",
       "        0.4848148 ,  0.30408948,  0.34157098,  1.01068705,  0.28809803,\n",
       "       -0.21337904,  0.35304089, -0.92225301,  1.27882026,  0.10147209,\n",
       "        0.63240614, -0.36776098, -0.89312011, -2.07201435, -0.86077842,\n",
       "        0.7277455 ,  0.301531  ,  1.13098613, -1.94358396,  0.83903967])"
      ]
     },
     "execution_count": 61,
     "metadata": {},
     "output_type": "execute_result"
    }
   ],
   "source": [
    "##自變數\n",
    "x=np.random.randn(100)\n",
    "x"
   ]
  },
  {
   "cell_type": "code",
   "execution_count": 62,
   "metadata": {},
   "outputs": [
    {
     "data": {
      "text/plain": [
       "(100,)"
      ]
     },
     "execution_count": 62,
     "metadata": {},
     "output_type": "execute_result"
    }
   ],
   "source": [
    "x.shape"
   ]
  },
  {
   "cell_type": "code",
   "execution_count": 63,
   "metadata": {},
   "outputs": [
    {
     "data": {
      "text/plain": [
       "array([ 161.8767358 ,  -43.54169494,   38.63637676, -201.17015864,\n",
       "        -58.33958798,  -58.4659958 ,  148.6976518 ,   43.82077347,\n",
       "         24.83414408,  -46.89376086,   33.97298143,   83.24663178,\n",
       "         34.61906466,   57.77656776,  101.98271234,   28.87807405,\n",
       "        146.30044627,   16.31968915,   -7.57711922,   99.839772  ,\n",
       "       -241.72155832,  -41.94745154,  -36.70703281,  242.13413792,\n",
       "        -56.03432956, -128.09497651, -115.0440776 ,  -30.46535129,\n",
       "       -105.36996168, -196.05489742,  218.29606602, -160.48902977,\n",
       "         12.12080244,  -92.18521219,  -60.35158382,  221.21273167,\n",
       "        -39.82256488,   37.97376881,   22.05805003,  -15.553683  ,\n",
       "        -15.23239319, -205.91485196,  -55.45494703,  -17.39700738,\n",
       "       -104.50060055,   -1.5984842 ,  227.69928547,   38.93669926,\n",
       "       -295.05070215,   63.31051529,   57.38646502,  -53.34674628,\n",
       "       -129.94217175,  218.18892169,  -98.78856475,  -83.14898013,\n",
       "         24.37005243,   39.92837324,  -28.91155885,    8.03162554,\n",
       "        129.86311906,  152.53012586, -109.37233513,   71.69748405,\n",
       "        -18.2695598 ,   74.40115872,  100.94637552, -100.36275923,\n",
       "        148.87154701,   34.36842808,  -34.39362146,  -64.03057497,\n",
       "          8.36322395,  121.44526973, -119.91420019,   42.45683382,\n",
       "        -14.68615731,  149.0741311 ,   39.17865019, -144.66466074,\n",
       "         52.48148023,   34.408948  ,   38.157098  ,  105.06870504,\n",
       "         32.80980318,  -17.33790384,   39.30408857,  -88.22530135,\n",
       "        131.88202581,   14.14720877,   67.24061402,  -32.77609756,\n",
       "        -85.31201089, -203.20143524,  -82.07784242,   76.77455001,\n",
       "         34.15310022,  117.09861316, -190.35839642,   87.90396727])"
      ]
     },
     "execution_count": 63,
     "metadata": {},
     "output_type": "execute_result"
    }
   ],
   "source": [
    "##應變數(實際值)\n",
    "w=100\n",
    "b=4\n",
    "y=w*x+b\n",
    "y"
   ]
  },
  {
   "cell_type": "code",
   "execution_count": 64,
   "metadata": {},
   "outputs": [
    {
     "data": {
      "text/plain": [
       "(100,)"
      ]
     },
     "execution_count": 64,
     "metadata": {},
     "output_type": "execute_result"
    }
   ],
   "source": [
    "y.shape"
   ]
  },
  {
   "cell_type": "code",
   "execution_count": 65,
   "metadata": {},
   "outputs": [
    {
     "data": {
      "image/png": "[encoded data removed]",
      "text/plain": [
       "<Figure size 432x288 with 1 Axes>"
      ]
     },
     "metadata": {
      "needs_background": "light"
     },
     "output_type": "display_data"
    }
   ],
   "source": [
    "##畫圖\n",
    "x_lin=np.linspace(x[0],x[-1])##x軸刻度\n",
    "y_lin=np.linspace(y[0],y[-1])##y=100*x+4\n",
    "plt.plot(x_lin, y_lin, 'b.', label = 'data points')\n",
    "plt.title(\"Assume we have data points\")\n",
    "plt.legend(loc = 2)##loc為圖例位子\n",
    "plt.show()"
   ]
  },
  {
   "cell_type": "code",
   "execution_count": 67,
   "metadata": {},
   "outputs": [
    {
     "name": "stdout",
     "output_type": "stream",
     "text": [
      "[557.8767358  352.45830506 434.63637676 194.82984136 337.66041202\n",
      " 337.5340042  544.6976518  439.82077347 420.83414408 349.10623914\n",
      " 429.97298143 479.24663178 430.61906466 453.77656776 497.98271234\n",
      " 424.87807405 542.30044627 412.31968915 388.42288078 495.839772\n",
      " 154.27844168 354.05254846 359.29296719 638.13413792 339.96567044\n",
      " 267.90502349 280.9559224  365.53464871 290.63003832 199.94510258\n",
      " 614.29606602 235.51097023 408.12080244 303.81478781 335.64841618\n",
      " 617.21273167 356.17743512 433.97376881 418.05805003 380.446317\n",
      " 380.76760681 190.08514804 340.54505297 378.60299262 291.49939945\n",
      " 394.4015158  623.69928547 434.93669926 100.94929785 459.31051529\n",
      " 453.38646502 342.65325372 266.05782825 614.18892169 297.21143525\n",
      " 312.85101987 420.37005243 435.92837324 367.08844115 404.03162554\n",
      " 525.86311906 548.53012586 286.62766487 467.69748405 377.7304402\n",
      " 470.40115872 496.94637552 295.63724077 544.87154701 430.36842808\n",
      " 361.60637854 331.96942503 404.36322395 517.44526973 276.08579981\n",
      " 438.45683382 381.31384269 545.0741311  435.17865019 251.33533926\n",
      " 448.48148023 430.408948   434.157098   501.06870504 428.80980318\n",
      " 378.66209616 435.30408857 307.77469865 527.88202581 410.14720877\n",
      " 463.24061402 363.22390244 310.68798911 192.79856476 313.92215758\n",
      " 472.77455001 430.15310022 513.09861316 205.64160358 483.90396727]\n",
      "(100,)\n"
     ]
    },
    {
     "data": {
      "image/png": "[encoded data removed]",
      "text/plain": [
       "<Figure size 432x288 with 1 Axes>"
      ]
     },
     "metadata": {
      "needs_background": "light"
     },
     "output_type": "display_data"
    }
   ],
   "source": [
    "# 這邊的 y_hat, 就沒有隨機的部分了, 也就是下圖中的紅色實線部分\n",
    "bb=400\n",
    "y_hat = x * w + bb##預測值\n",
    "print(y_hat)\n",
    "print(y_hat.shape)\n",
    "x_hat_lin = np.linspace(x[0],x[-1])\n",
    "y_hat_lin = np.linspace(y_hat[0],y_hat[-1])\n",
    "plt.plot(x_lin, y_lin, 'b.', label = 'data')\n",
    "\n",
    "\n",
    "# 上面的 'b.' 是藍色點狀, 下面的 'r-' 是紅色線狀, label 是圖示上的名稱\n",
    "plt.plot(x_hat_lin, y_hat_lin, 'r-', label = 'prediction')\n",
    "plt.title(\"Assume we have data points (And the prediction)\")\n",
    "plt.legend(loc = 2)\n",
    "plt.show()"
   ]
  },
  {
   "cell_type": "code",
   "execution_count": 68,
   "metadata": {},
   "outputs": [
    {
     "name": "stdout",
     "output_type": "stream",
     "text": [
      "The Mean absolute error is 39.600\n"
     ]
    }
   ],
   "source": [
    "def mse(y,y_hat):\n",
    "    \"\"\"\n",
    "    計算 MAE\n",
    "    Args:\n",
    "        - y: 實際值\n",
    "        - y_hat: 預測值\n",
    "    Return:\n",
    "        - msq: MSQ\n",
    "    \"\"\"\n",
    "    # MSE : 將MAE平方再開根號, 因此稱為\"平均絕對誤差\"\n",
    "    mse=MSE = (sum(abs(y - y_hat)**2))**0.5 / len(y)\n",
    "    return mse\n",
    "\n",
    "# 呼叫上述函式, 傳回 y(藍點高度)與 y_hat(紅線高度) 的 MAE\n",
    "MSE = mse(y, y_hat)\n",
    "print(\"The Mean absolute error is %.3f\" % (MSE))"
   ]
  },
  {
   "cell_type": "code",
   "execution_count": null,
   "metadata": {},
   "outputs": [],
   "source": []
  }
 ],
 "metadata": {
  "anaconda-cloud": {},
  "kernelspec": {
   "display_name": "Python 3",
   "language": "python",
   "name": "python3"
  },
  "language_info": {
   "codemirror_mode": {
    "name": "ipython",
    "version": 3
   },
   "file_extension": ".py",
   "mimetype": "text/x-python",
   "name": "python",
   "nbconvert_exporter": "python",
   "pygments_lexer": "ipython3",
   "version": "3.6.5"
  }
 },
 "nbformat": 4,
 "nbformat_minor": 1
}
