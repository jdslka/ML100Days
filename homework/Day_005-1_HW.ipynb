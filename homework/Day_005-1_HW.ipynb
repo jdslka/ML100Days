{
 "cells": [
  {
   "cell_type": "markdown",
   "metadata": {},
   "source": [
    "# [作業目標]\n",
    "- 利用範例的創建方式, 創建一組資料, 並練習如何取出最大值"
   ]
  },
  {
   "cell_type": "markdown",
   "metadata": {},
   "source": [
    "# [作業重點]\n",
    "- 練習創立 DataFrame (In[2])\n",
    "- 如何取出口數最多的國家 (In[3], Out[3])"
   ]
  },
  {
   "cell_type": "markdown",
   "metadata": {},
   "source": [
    "## 練習時間\n",
    "在小量的資料上，我們用眼睛就可以看得出來程式碼是否有跑出我們理想中的結果\n",
    "\n",
    "請嘗試想像一個你需要的資料結構 (裡面的值可以是隨機的)，然後用上述的方法把它變成 pandas DataFrame\n",
    "\n",
    "#### Ex: 想像一個 dataframe 有兩個欄位，一個是國家，一個是人口，求人口數最多的國家\n",
    "\n",
    "### Hints: [隨機產生數值](https://blog.csdn.net/christianashannon/article/details/78867204)"
   ]
  },
  {
   "cell_type": "code",
   "execution_count": 1,
   "metadata": {},
   "outputs": [],
   "source": [
    "import pandas as pd\n",
    "import numpy as np"
   ]
  },
  {
   "cell_type": "code",
   "execution_count": 3,
   "metadata": {},
   "outputs": [
    {
     "data": {
      "text/html": [
       "<div>\n",
       "<style scoped>\n",
       "    .dataframe tbody tr th:only-of-type {\n",
       "        vertical-align: middle;\n",
       "    }\n",
       "\n",
       "    .dataframe tbody tr th {\n",
       "        vertical-align: top;\n",
       "    }\n",
       "\n",
       "    .dataframe thead th {\n",
       "        text-align: right;\n",
       "    }\n",
       "</style>\n",
       "<table border=\"1\" class=\"dataframe\">\n",
       "  <thead>\n",
       "    <tr style=\"text-align: right;\">\n",
       "      <th></th>\n",
       "      <th>國家</th>\n",
       "      <th>人口</th>\n",
       "    </tr>\n",
       "  </thead>\n",
       "  <tbody>\n",
       "    <tr>\n",
       "      <th>0</th>\n",
       "      <td>-1.755404</td>\n",
       "      <td>0.673718</td>\n",
       "    </tr>\n",
       "    <tr>\n",
       "      <th>1</th>\n",
       "      <td>0.193029</td>\n",
       "      <td>0.421319</td>\n",
       "    </tr>\n",
       "    <tr>\n",
       "      <th>2</th>\n",
       "      <td>0.411702</td>\n",
       "      <td>-0.725127</td>\n",
       "    </tr>\n",
       "    <tr>\n",
       "      <th>3</th>\n",
       "      <td>0.480092</td>\n",
       "      <td>0.525174</td>\n",
       "    </tr>\n",
       "    <tr>\n",
       "      <th>4</th>\n",
       "      <td>-0.137235</td>\n",
       "      <td>-0.182273</td>\n",
       "    </tr>\n",
       "    <tr>\n",
       "      <th>5</th>\n",
       "      <td>0.238013</td>\n",
       "      <td>1.123433</td>\n",
       "    </tr>\n",
       "    <tr>\n",
       "      <th>6</th>\n",
       "      <td>-0.190809</td>\n",
       "      <td>-0.513069</td>\n",
       "    </tr>\n",
       "    <tr>\n",
       "      <th>7</th>\n",
       "      <td>-2.035269</td>\n",
       "      <td>-0.405758</td>\n",
       "    </tr>\n",
       "    <tr>\n",
       "      <th>8</th>\n",
       "      <td>0.294093</td>\n",
       "      <td>1.725253</td>\n",
       "    </tr>\n",
       "    <tr>\n",
       "      <th>9</th>\n",
       "      <td>-2.072833</td>\n",
       "      <td>-0.678405</td>\n",
       "    </tr>\n",
       "  </tbody>\n",
       "</table>\n",
       "</div>"
      ],
      "text/plain": [
       "         國家        人口\n",
       "0 -1.755404  0.673718\n",
       "1  0.193029  0.421319\n",
       "2  0.411702 -0.725127\n",
       "3  0.480092  0.525174\n",
       "4 -0.137235 -0.182273\n",
       "5  0.238013  1.123433\n",
       "6 -0.190809 -0.513069\n",
       "7 -2.035269 -0.405758\n",
       "8  0.294093  1.725253\n",
       "9 -2.072833 -0.678405"
      ]
     },
     "execution_count": 3,
     "metadata": {},
     "output_type": "execute_result"
    }
   ],
   "source": [
    "data = {'國家' ,'人口' }\n",
    "data = pd.DataFrame(np.random.randn(10,2),index=None,columns=data)\n",
    "data"
   ]
  },
  {
   "cell_type": "markdown",
   "metadata": {
    "collapsed": true
   },
   "source": [
    "# 求人口數最多的國家"
   ]
  },
  {
   "cell_type": "code",
   "execution_count": 5,
   "metadata": {},
   "outputs": [
    {
     "data": {
      "text/plain": [
       "國家\n",
       "-2.072833   -0.678405\n",
       "-2.035269   -0.405758\n",
       "-1.755404    0.673718\n",
       "-0.190809   -0.513069\n",
       "-0.137235   -0.182273\n",
       " 0.193029    0.421319\n",
       " 0.238013    1.123433\n",
       " 0.294093    1.725253\n",
       " 0.411702   -0.725127\n",
       " 0.480092    0.525174\n",
       "Name: 人口, dtype: float64"
      ]
     },
     "execution_count": 5,
     "metadata": {},
     "output_type": "execute_result"
    }
   ],
   "source": [
    "data.groupby(by='國家')['人口'].max()"
   ]
  },
  {
   "cell_type": "code",
   "execution_count": null,
   "metadata": {},
   "outputs": [],
   "source": []
  }
 ],
 "metadata": {
  "kernelspec": {
   "display_name": "Python 3",
   "language": "python",
   "name": "python3"
  },
  "language_info": {
   "codemirror_mode": {
    "name": "ipython",
    "version": 3
   },
   "file_extension": ".py",
   "mimetype": "text/x-python",
   "name": "python",
   "nbconvert_exporter": "python",
   "pygments_lexer": "ipython3",
   "version": "3.6.5"
  }
 },
 "nbformat": 4,
 "nbformat_minor": 2
}
